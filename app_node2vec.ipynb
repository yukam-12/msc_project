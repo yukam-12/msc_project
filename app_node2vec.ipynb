{
 "cells": [
  {
   "cell_type": "code",
   "execution_count": 2,
   "metadata": {},
   "outputs": [
    {
     "name": "stdout",
     "output_type": "stream",
     "text": [
      "testcases data shape: (101784, 3)\n"
     ]
    },
    {
     "name": "stderr",
     "output_type": "stream",
     "text": [
      "Compute test cases frequency: 100%|██████████| 1649/1649 [00:00<00:00, 2481.71it/s]\n",
      "Creating the test cases graph: 100%|██████████| 511300/511300 [00:01<00:00, 418888.29it/s]"
     ]
    },
    {
     "name": "stdout",
     "output_type": "stream",
     "text": [
      "\n",
      "Total number of graph nodes: 17482\n",
      "Total number of graph edges: 511300\n",
      "Average node degree: 58.49\n"
     ]
    },
    {
     "name": "stderr",
     "output_type": "stream",
     "text": [
      "\n"
     ]
    }
   ],
   "source": [
    "import math\n",
    "import networkx as nx\n",
    "from tqdm import tqdm\n",
    "import pandas as pd\n",
    "from collections import defaultdict\n",
    "from node2vec import Node2Vec\n",
    "\n",
    "# Create a graph\n",
    "\n",
    "# Load testcases to a DataFrame.\n",
    "# !Details of Pandas Dataframe is here: https://pandas.pydata.org/pandas-docs/stable/reference/api/pandas.DataFrame.html\n",
    "# !How to use Lambda is here: https://www.w3schools.com/python/python_lambda.asp\n",
    "testcases = pd.read_csv(\"dataset/assertj-core2.csv\")\n",
    "# Create a \"id\" string.\n",
    "testcases[\"id\"] = testcases[\"id\"].apply(lambda x: f\"case_{x}\")\n",
    "\n",
    "# !pandas.DataFrame.shape return a tuple representing the dimensionality of the DataFrame\n",
    "print(\"testcases data shape:\", testcases.shape)\n",
    "\n",
    "# Construct the Testcase graph\n",
    "\n",
    "# Step 1: create the weighted edges between movies\n",
    "min_rating = 5\n",
    "pair_frequency = defaultdict(int)\n",
    "item_frequency = defaultdict(int)\n",
    "\n",
    "# Group instances by executed line.\n",
    "cases_grouped_by_executed_line = list(testcases.groupby(\"executedline\"))\n",
    "for group in tqdm(\n",
    "    cases_grouped_by_executed_line,\n",
    "    position=0,\n",
    "    leave=True,\n",
    "    desc=\"Compute test cases frequency\",\n",
    "):\n",
    "    # Get a list of test cases executing the line.\n",
    "    #print(group)\n",
    "    current_cases = list(group[1][\"id\"])\n",
    "\n",
    "    for i in range(len(current_cases)):\n",
    "        item_frequency[current_cases[i]] += 1\n",
    "        for j in range(i + 1, len(current_cases)):\n",
    "            x = min(current_cases[i], current_cases[j])\n",
    "            y = max(current_cases[i], current_cases[j])\n",
    "            pair_frequency[(x, y)] += 1\n",
    "\n",
    "# Step 2: create the graph with the nodes and the edges\n",
    "#min_weight = 10\n",
    "D = math.log(sum(item_frequency.values()))\n",
    "\n",
    "# Create the movies undirected graph.\n",
    "testcases_graph = nx.Graph()\n",
    "# Add weighted edges between movies.\n",
    "# This automatically adds the movie nodes to the graph.\n",
    "for pair in tqdm(\n",
    "    pair_frequency, position=0, leave=True, desc=\"Creating the test cases graph\"\n",
    "):\n",
    "    x, y = pair\n",
    "    xy_frequency = pair_frequency[pair]\n",
    "    x_frequency = item_frequency[x]\n",
    "    y_frequency = item_frequency[y]\n",
    "    pmi = math.log(xy_frequency) - math.log(x_frequency) - math.log(y_frequency) + D\n",
    "    weight = pmi * xy_frequency\n",
    "    # Only include edges with weight >= min_weight.\n",
    "    #if weight >= min_weight:\n",
    "    #    movies_graph.add_edge(x, y, weight=weight)\n",
    "    testcases_graph.add_edge(x, y, weight=weight)\n",
    "\n",
    "\n",
    "# Let's display the total number of nodes and edges in the graph. \n",
    "# Note that the number of nodes is less than the total number of test cases, \n",
    "# since only the test cases that have edges to other test cases are added.\n",
    "print()\n",
    "print(\"Total number of graph nodes:\", testcases_graph.number_of_nodes())\n",
    "print(\"Total number of graph edges:\", testcases_graph.number_of_edges())\n",
    "\n",
    "# Let's display the average node degree (number of neighbours) in the graph.\n",
    "degrees = []\n",
    "for node in testcases_graph.nodes:\n",
    "    degrees.append(testcases_graph.degree[node])\n",
    "\n",
    "print(\"Average node degree:\", round(sum(degrees) / len(degrees), 2))\n",
    "\n",
    "\n"
   ]
  },
  {
   "cell_type": "code",
   "execution_count": 4,
   "metadata": {},
   "outputs": [
    {
     "name": "stderr",
     "output_type": "stream",
     "text": [
      "Computing transition probabilities: 100%|██████████| 17482/17482 [06:19<00:00, 46.05it/s]  \n",
      "Generating walks (CPU: 1): 100%|██████████| 10/10 [02:02<00:00, 12.28s/it]\n"
     ]
    }
   ],
   "source": [
    "# Create Embedding\n",
    "node2vec = Node2Vec(testcases_graph, dimensions=2)\n",
    "\n",
    "model = node2vec.fit(window=10)\n",
    "\n",
    "embeddings = model.wv"
   ]
  }
 ],
 "metadata": {
  "kernelspec": {
   "display_name": ".venv",
   "language": "python",
   "name": "python3"
  },
  "language_info": {
   "codemirror_mode": {
    "name": "ipython",
    "version": 3
   },
   "file_extension": ".py",
   "mimetype": "text/x-python",
   "name": "python",
   "nbconvert_exporter": "python",
   "pygments_lexer": "ipython3",
   "version": "3.10.2"
  },
  "orig_nbformat": 4
 },
 "nbformat": 4,
 "nbformat_minor": 2
}
