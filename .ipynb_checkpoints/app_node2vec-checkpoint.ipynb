{
 "cells": [
  {
   "cell_type": "code",
   "execution_count": 1,
   "metadata": {
    "tags": []
   },
   "outputs": [],
   "source": [
    "import networkx as nx\n",
    "import matplotlib.pyplot as plt\n",
    "from node2vec import Node2Vec\n",
    "from sklearn.manifold import TSNE\n",
    "import numpy as np"
   ]
  },
  {
   "cell_type": "code",
   "execution_count": 2,
   "metadata": {
    "tags": []
   },
   "outputs": [],
   "source": [
    "G = nx.Graph()"
   ]
  },
  {
   "cell_type": "code",
   "execution_count": 17,
   "metadata": {
    "tags": []
   },
   "outputs": [],
   "source": [
    "# read the data file and convert it to a dictionary\n",
    "# dictionary = {testcase ID (int): {\"testcase\": testcase name, \"exec_line\": list of executed lines}}\n",
    "D = dict()\n",
    "key_count = 0\n",
    "previous_test_case = ''\n",
    "with open('dataset/assertj-core1_2013.txt') as f:\n",
    "    for line in f:\n",
    "        l_line = line.rstrip().split(\"\\t\")\n",
    "        if previous_test_case != l_line[1]:\n",
    "            previous_test_case = l_line[1]\n",
    "            key_count += 1\n",
    "        if key_count in D:\n",
    "            D[key_count][\"exec_line\"].append(l_line[2]+l_line[3])\n",
    "        else:\n",
    "            D[key_count] = {\"testcase\": l_line[1], \"exec_line\":[l_line[2]+l_line[3]]}\n",
    "\n"
   ]
  },
  {
   "cell_type": "code",
   "execution_count": 34,
   "metadata": {
    "tags": []
   },
   "outputs": [
    {
     "name": "stdout",
     "output_type": "stream",
     "text": [
      "<class 'networkx.classes.reportviews.EdgeDataView'>\n",
      "[(1, 2, {'weight': 26}), (1, 3, {'weight': 62}), (1, 4, {'weight': 62}), (1, 5, {'weight': 12}), (1, 6, {'weight': 16}), (1, 7, {'weight': 12}), (1, 9, {'weight': 16}), (1, 10, {'weight': 19}), (1, 11, {'weight': 16}), (1, 12, {'weight': 15}), (1, 13, {'weight': 12}), (1, 14, {'weight': 17}), (1, 15, {'weight': 12}), (1, 16, {'weight': 16}), (1, 17, {'weight': 15}), (1, 18, {'weight': 14}), (1, 19, {'weight': 27}), (1, 20, {'weight': 26}), (1, 21, {'weight': 12}), (1, 22, {'weight': 10}), (1, 23, {'weight': 8}), (2, 3, {'weight': 25}), (2, 4, {'weight': 25}), (2, 5, {'weight': 26}), (2, 6, {'weight': 25}), (2, 7, {'weight': 25}), (2, 9, {'weight': 26}), (2, 10, {'weight': 10}), (2, 11, {'weight': 13}), (2, 12, {'weight': 12}), (2, 13, {'weight': 26}), (2, 14, {'weight': 13}), (2, 15, {'weight': 12}), (2, 16, {'weight': 12}), (2, 17, {'weight': 12}), (2, 18, {'weight': 13}), (2, 19, {'weight': 10}), (2, 20, {'weight': 10}), (2, 21, {'weight': 12}), (2, 22, {'weight': 10}), (2, 23, {'weight': 5}), (3, 4, {'weight': 62}), (3, 5, {'weight': 12}), (3, 6, {'weight': 15}), (3, 7, {'weight': 12}), (3, 9, {'weight': 16}), (3, 10, {'weight': 19}), (3, 11, {'weight': 15}), (3, 12, {'weight': 15}), (3, 13, {'weight': 12}), (3, 14, {'weight': 16}), (3, 15, {'weight': 12}), (3, 16, {'weight': 16}), (3, 17, {'weight': 15}), (3, 18, {'weight': 12}), (3, 19, {'weight': 26}), (3, 20, {'weight': 26}), (3, 21, {'weight': 12}), (3, 22, {'weight': 10}), (3, 23, {'weight': 8}), (4, 5, {'weight': 12}), (4, 6, {'weight': 15}), (4, 7, {'weight': 12}), (4, 9, {'weight': 16}), (4, 10, {'weight': 19}), (4, 11, {'weight': 15}), (4, 12, {'weight': 15}), (4, 13, {'weight': 12}), (4, 14, {'weight': 16}), (4, 15, {'weight': 12}), (4, 16, {'weight': 16}), (4, 17, {'weight': 15}), (4, 18, {'weight': 12}), (4, 19, {'weight': 26}), (4, 20, {'weight': 26}), (4, 21, {'weight': 12}), (4, 22, {'weight': 10}), (4, 23, {'weight': 8}), (5, 6, {'weight': 25}), (5, 7, {'weight': 25}), (5, 9, {'weight': 26}), (5, 10, {'weight': 10}), (5, 11, {'weight': 12}), (5, 12, {'weight': 12}), (5, 13, {'weight': 26}), (5, 14, {'weight': 12}), (5, 15, {'weight': 20}), (5, 16, {'weight': 12}), (5, 17, {'weight': 12}), (5, 18, {'weight': 12}), (5, 19, {'weight': 17}), (5, 20, {'weight': 18}), (5, 21, {'weight': 12}), (5, 22, {'weight': 10}), (5, 23, {'weight': 5}), (6, 7, {'weight': 28}), (6, 8, {'weight': 1}), (6, 9, {'weight': 36}), (6, 10, {'weight': 17}), (6, 11, {'weight': 18}), (6, 12, {'weight': 14}), (6, 13, {'weight': 26}), (6, 14, {'weight': 19}), (6, 15, {'weight': 12}), (6, 16, {'weight': 19}), (6, 17, {'weight': 14}), (6, 18, {'weight': 13}), (6, 19, {'weight': 15}), (6, 20, {'weight': 14}), (6, 21, {'weight': 13}), (6, 22, {'weight': 10}), (6, 23, {'weight': 11}), (7, 8, {'weight': 1}), (7, 9, {'weight': 26}), (7, 10, {'weight': 10}), (7, 11, {'weight': 12}), (7, 12, {'weight': 12}), (7, 13, {'weight': 26}), (7, 14, {'weight': 12}), (7, 15, {'weight': 12}), (7, 16, {'weight': 12}), (7, 17, {'weight': 12}), (7, 18, {'weight': 12}), (7, 19, {'weight': 10}), (7, 20, {'weight': 10}), (7, 21, {'weight': 12}), (7, 22, {'weight': 10}), (7, 23, {'weight': 5}), (8, 9, {'weight': 1}), (8, 22, {'weight': 35}), (9, 10, {'weight': 18}), (9, 11, {'weight': 19}), (9, 12, {'weight': 15}), (9, 13, {'weight': 26}), (9, 14, {'weight': 20}), (9, 15, {'weight': 12}), (9, 16, {'weight': 20}), (9, 17, {'weight': 15}), (9, 18, {'weight': 12}), (9, 19, {'weight': 15}), (9, 20, {'weight': 15}), (9, 21, {'weight': 13}), (9, 22, {'weight': 10}), (9, 23, {'weight': 12}), (10, 11, {'weight': 80}), (10, 12, {'weight': 29}), (10, 13, {'weight': 10}), (10, 14, {'weight': 117}), (10, 15, {'weight': 60}), (10, 16, {'weight': 88}), (10, 17, {'weight': 28}), (10, 18, {'weight': 28}), (10, 19, {'weight': 22}), (10, 20, {'weight': 22}), (10, 21, {'weight': 60}), (10, 22, {'weight': 59}), (10, 23, {'weight': 33}), (11, 12, {'weight': 45}), (11, 13, {'weight': 12}), (11, 14, {'weight': 79}), (11, 15, {'weight': 71}), (11, 16, {'weight': 77}), (11, 17, {'weight': 44}), (11, 18, {'weight': 20}), (11, 19, {'weight': 16}), (11, 20, {'weight': 16}), (11, 21, {'weight': 47}), (11, 22, {'weight': 44}), (11, 23, {'weight': 24}), (12, 13, {'weight': 12}), (12, 14, {'weight': 30}), (12, 15, {'weight': 36}), (12, 16, {'weight': 30}), (12, 17, {'weight': 44}), (12, 18, {'weight': 19}), (12, 19, {'weight': 13}), (12, 20, {'weight': 13}), (12, 21, {'weight': 13}), (12, 22, {'weight': 11}), (12, 23, {'weight': 9}), (13, 14, {'weight': 12}), (13, 15, {'weight': 12}), (13, 16, {'weight': 12}), (13, 17, {'weight': 12}), (13, 18, {'weight': 12}), (13, 19, {'weight': 11}), (13, 20, {'weight': 15}), (13, 21, {'weight': 12}), (13, 22, {'weight': 10}), (13, 23, {'weight': 5}), (14, 15, {'weight': 66}), (14, 16, {'weight': 153}), (14, 17, {'weight': 31}), (14, 18, {'weight': 31}), (14, 19, {'weight': 17}), (14, 20, {'weight': 17}), (14, 21, {'weight': 64}), (14, 22, {'weight': 59}), (14, 23, {'weight': 70}), (15, 16, {'weight': 85}), (15, 17, {'weight': 37}), (15, 18, {'weight': 19}), (15, 19, {'weight': 19}), (15, 20, {'weight': 20}), (15, 21, {'weight': 41}), (15, 22, {'weight': 39}), (15, 23, {'weight': 14}), (16, 17, {'weight': 31}), (16, 18, {'weight': 30}), (16, 19, {'weight': 17}), (16, 20, {'weight': 17}), (16, 21, {'weight': 59}), (16, 22, {'weight': 54}), (16, 23, {'weight': 65}), (17, 18, {'weight': 19}), (17, 19, {'weight': 13}), (17, 20, {'weight': 13}), (17, 21, {'weight': 13}), (17, 22, {'weight': 11}), (17, 23, {'weight': 9}), (18, 19, {'weight': 11}), (18, 20, {'weight': 10}), (18, 21, {'weight': 24}), (18, 22, {'weight': 22}), (18, 23, {'weight': 13}), (19, 20, {'weight': 107}), (19, 21, {'weight': 13}), (19, 22, {'weight': 12}), (19, 23, {'weight': 9}), (20, 21, {'weight': 13}), (20, 22, {'weight': 12}), (20, 23, {'weight': 9}), (21, 22, {'weight': 86}), (21, 23, {'weight': 50}), (22, 23, {'weight': 41})]\n"
     ]
    },
    {
     "ename": "TypeError",
     "evalue": "'EdgeDataView' object is not subscriptable",
     "output_type": "error",
     "traceback": [
      "\u001b[1;31m---------------------------------------------------------------------------\u001b[0m",
      "\u001b[1;31mTypeError\u001b[0m                                 Traceback (most recent call last)",
      "Cell \u001b[1;32mIn[34], line 19\u001b[0m\n\u001b[0;32m     17\u001b[0m \u001b[38;5;28mprint\u001b[39m(\u001b[38;5;28mtype\u001b[39m(edges))\n\u001b[0;32m     18\u001b[0m \u001b[38;5;28mprint\u001b[39m(edges)\n\u001b[1;32m---> 19\u001b[0m \u001b[38;5;28mprint\u001b[39m(edges[\u001b[38;5;241m0\u001b[39m])\n",
      "\u001b[1;31mTypeError\u001b[0m: 'EdgeDataView' object is not subscriptable"
     ]
    }
   ],
   "source": [
    "# Create a graph\n",
    "# add nodes\n",
    "for i in D:\n",
    "    # print(i)\n",
    "    # print(D[i][\"testcase\"])\n",
    "    G.add_node(i)\n",
    "\n",
    "# add weighted edge: the number of common executed lines is the weight of edge.\n",
    "for i in range(1, len(D)+1):\n",
    "    for j in range(i+1, len(D)+1):\n",
    "        weight = len(set(D[i][\"exec_line\"]) & set(D[j][\"exec_line\"]))\n",
    "        if weight != 0:\n",
    "            G.add_weighted_edges_from([(i,j,weight)])\n",
    "\n",
    "edges = G.edges(data=True)\n",
    "weight_set = ()\n",
    "print(type(edges))\n",
    "print(edges)\n",
    "print(edges[0])\n",
    "# for i in range(i, len(edges)):\n",
    "#     if edges[i][2] not in weight_set:\n",
    "#         weight_set.add(edges[i][2][\"weight\"])\n",
    "# print(weight_set)\n",
    "# nx.draw_networkx(G,width=4, edge_color=weights, edge_cmap=plt.cm.Greys)\n",
    "               \n",
    "               \n",
    "    "
   ]
  },
  {
   "cell_type": "code",
   "execution_count": 31,
   "metadata": {
    "tags": []
   },
   "outputs": [
    {
     "ename": "NameError",
     "evalue": "name 'testcases_graph' is not defined",
     "output_type": "error",
     "traceback": [
      "\u001b[1;31m---------------------------------------------------------------------------\u001b[0m",
      "\u001b[1;31mNameError\u001b[0m                                 Traceback (most recent call last)",
      "Cell \u001b[1;32mIn[31], line 2\u001b[0m\n\u001b[0;32m      1\u001b[0m \u001b[38;5;66;03m# Create Embedding\u001b[39;00m\n\u001b[1;32m----> 2\u001b[0m node2vec \u001b[38;5;241m=\u001b[39m Node2Vec(testcases_graph, dimensions\u001b[38;5;241m=\u001b[39m\u001b[38;5;241m2\u001b[39m)\n\u001b[0;32m      4\u001b[0m model \u001b[38;5;241m=\u001b[39m node2vec\u001b[38;5;241m.\u001b[39mfit(window\u001b[38;5;241m=\u001b[39m\u001b[38;5;241m10\u001b[39m)\n\u001b[0;32m      6\u001b[0m embeddings \u001b[38;5;241m=\u001b[39m model\u001b[38;5;241m.\u001b[39mwv\n",
      "\u001b[1;31mNameError\u001b[0m: name 'testcases_graph' is not defined"
     ]
    }
   ],
   "source": [
    "# Create Embedding\n",
    "node2vec = Node2Vec(testcases_graph, dimensions=2)\n",
    "\n",
    "model = node2vec.fit(window=10)\n",
    "\n",
    "embeddings = model.wv"
   ]
  },
  {
   "cell_type": "code",
   "execution_count": null,
   "metadata": {},
   "outputs": [],
   "source": []
  }
 ],
 "metadata": {
  "kernelspec": {
   "display_name": "Python 3 (ipykernel)",
   "language": "python",
   "name": "python3"
  },
  "language_info": {
   "codemirror_mode": {
    "name": "ipython",
    "version": 3
   },
   "file_extension": ".py",
   "mimetype": "text/x-python",
   "name": "python",
   "nbconvert_exporter": "python",
   "pygments_lexer": "ipython3",
   "version": "3.11.3"
  }
 },
 "nbformat": 4,
 "nbformat_minor": 4
}
